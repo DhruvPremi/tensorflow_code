{
 "cells": [
  {
   "cell_type": "code",
   "execution_count": 1,
   "metadata": {
    "collapsed": true
   },
   "outputs": [],
   "source": [
    "import tensorflow as tf\n",
    "import numpy as np\n",
    "import matplotlib.pyplot as plt"
   ]
  },
  {
   "cell_type": "code",
   "execution_count": 2,
   "metadata": {
    "collapsed": true
   },
   "outputs": [],
   "source": [
    "def parameters_for_line():\n",
    "    return np.random.uniform(-10, 10, 3)\n",
    "\n",
    "def return_points(number_of_points):\n",
    "    return np.random.uniform(-200, 200, size=(number_of_points, 2))\n",
    "\n",
    "def draw_hyper_plane(hyper_plane_parameters_2):\n",
    "    x = np.array([ -100, 100, 70, 10, 20, 22, 16], float)\n",
    "    y = ((-hyper_plane_parameters_2[1] * x) - hyper_plane_parameters_2[2]) / hyper_plane_parameters_2[0]\n",
    "    \n",
    "    return np.array([x, y])\n",
    "\n",
    "def find_points_class(hyper_plane_parameters_1, all_training_points):\n",
    "    \n",
    "    class_array = np.zeros((all_training_points.shape[0], 2))\n",
    "    all_training_points = np.hstack((all_training_points, np.ones((all_training_points.shape[0], 1), float)))\n",
    "    \n",
    "    for i in range(all_training_points.shape[0]):\n",
    "        if(np.matmul(np.transpose(hyper_plane_parameters_1), all_training_points[i, :])[0] > 0):\n",
    "            class_array[i, :] = [1.0, 0.0]\n",
    "        else:\n",
    "            class_array[i, :] = [0.0, 1.0]\n",
    "    \n",
    "    return class_array"
   ]
  },
  {
   "cell_type": "code",
   "execution_count": 3,
   "metadata": {},
   "outputs": [
    {
     "name": "stdout",
     "output_type": "stream",
     "text": [
      "------------\n",
      "Plane Parameters\n",
      "[[-9.19506089]\n",
      " [ 0.4330411 ]\n",
      " [ 2.99168879]]\n",
      "------------\n",
      "Points\n",
      "[[-100.          100.           70.           10.           20.           22.\n",
      "    16.        ]\n",
      " [  -4.38413856    5.03485503    3.62200599    0.79630792    1.26725759\n",
      "     1.36144753    1.07887772]]\n"
     ]
    }
   ],
   "source": [
    "hyper_plane_parameters = parameters_for_line().reshape((3,1))\n",
    "\n",
    "print('------------\\nPlane Parameters')\n",
    "print(hyper_plane_parameters)\n",
    "\n",
    "\n",
    "plane_points = draw_hyper_plane(hyper_plane_parameters)\n",
    "print('------------\\nPoints')\n",
    "print(plane_points)\n",
    "\n",
    "\n"
   ]
  },
  {
   "cell_type": "code",
   "execution_count": 4,
   "metadata": {
    "collapsed": true
   },
   "outputs": [],
   "source": [
    "all_training_points_1 = return_points(500)\n",
    "class_array = find_points_class(hyper_plane_parameters, all_training_points_1)"
   ]
  },
  {
   "cell_type": "code",
   "execution_count": 5,
   "metadata": {},
   "outputs": [
    {
     "data": {
      "image/png": "[encoded data removed]",
      "text/plain": [
       "<matplotlib.figure.Figure at 0x7fcf8b6a0588>"
      ]
     },
     "metadata": {},
     "output_type": "display_data"
    }
   ],
   "source": [
    "for i in range(class_array.shape[0]):\n",
    "    if class_array[i, 0] > 0:\n",
    "        plt.plot(all_training_points_1[i, 1], all_training_points_1[i, 0], 'g^')\n",
    "    else:\n",
    "        plt.plot(all_training_points_1[i, 1], all_training_points_1[i, 0], 'b^')\n",
    "\n",
    "plt.plot(plane_points[0, :], plane_points[1, :], 'r')\n",
    "plt.show()"
   ]
  },
  {
   "cell_type": "code",
   "execution_count": 10,
   "metadata": {},
   "outputs": [
    {
     "name": "stdout",
     "output_type": "stream",
     "text": [
      "1 Iteration\n",
      "[[-7.91434479  7.40951443]\n",
      " [ 7.03298903 -7.79124689]]\n",
      "2 Iteration\n",
      "[[-9.68954754  9.18471718]\n",
      " [ 2.97086239 -3.72912025]]\n",
      "3 Iteration\n",
      "[[-9.84428024  9.33944988]\n",
      " [ 2.08966255 -2.84792042]]\n",
      "4 Iteration\n",
      "[[-9.84428024  9.33944988]\n",
      " [ 2.08966255 -2.84792042]]\n",
      "5 Iteration\n",
      "[[-9.84428024  9.33944988]\n",
      " [ 2.08966255 -2.84792042]]\n",
      "6 Iteration\n",
      "[[-9.90624046  9.4014101 ]\n",
      " [ 1.71329474 -2.47155261]]\n",
      "7 Iteration\n",
      "[[-9.93993664  9.43510628]\n",
      " [ 1.37373042 -2.13198829]]\n",
      "8 Iteration\n",
      "[[-10.03256798   9.52773762]\n",
      " [  0.72674161  -1.48499942]]\n",
      "9 Iteration\n",
      "[[-10.03256798   9.52773762]\n",
      " [  0.72674161  -1.48499942]]\n",
      "10 Iteration\n",
      "[[-10.09815884   9.59332848]\n",
      " [ -0.01789242  -0.74036539]]\n",
      "11 Iteration\n",
      "[[-10.09815884   9.59332848]\n",
      " [ -0.01789242  -0.74036539]]\n",
      "12 Iteration\n",
      "[[-10.09815884   9.59332848]\n",
      " [ -0.01789242  -0.74036539]]\n",
      "13 Iteration\n",
      "[[-10.09815884   9.59332848]\n",
      " [ -0.01789242  -0.74036539]]\n",
      "14 Iteration\n",
      "[[-10.09815884   9.59332848]\n",
      " [ -0.01789242  -0.74036539]]\n",
      "15 Iteration\n",
      "[[-10.09815884   9.59332848]\n",
      " [ -0.01789242  -0.74036539]]\n",
      "16 Iteration\n",
      "[[-10.09815884   9.59332848]\n",
      " [ -0.01789242  -0.74036539]]\n",
      "17 Iteration\n",
      "[[-10.09815884   9.59332848]\n",
      " [ -0.01788297  -0.7403748 ]]\n",
      "18 Iteration\n",
      "[[-10.09815884   9.59332848]\n",
      " [ -0.01788297  -0.7403748 ]]\n",
      "19 Iteration\n",
      "[[-10.09815884   9.59332848]\n",
      " [ -0.01788297  -0.7403748 ]]\n",
      "20 Iteration\n",
      "[[-10.09815884   9.59332848]\n",
      " [ -0.01788297  -0.7403748 ]]\n",
      "\n",
      "\n",
      "Accuracy\n",
      "\n",
      "\n",
      "0.994\n"
     ]
    }
   ],
   "source": [
    "batch_size = 24\n",
    "learning_rate = 0.1\n",
    "\n",
    "\n",
    "x = tf.placeholder(tf.float32, [None, 2])\n",
    "y = tf.placeholder(tf.float32, [None, 2])\n",
    "\n",
    "weights = tf.Variable(tf.random_normal([2,2], dtype=tf.float32))\n",
    "biases = tf.Variable(tf.random_normal([1,2], dtype=tf.float32))\n",
    "\n",
    "logits_1 = tf.add(tf.matmul(x, weights), biases)\n",
    "error = tf.reduce_mean(tf.nn.softmax_cross_entropy_with_logits(logits=logits_1, labels=y))\n",
    "\n",
    "gradient_optimizer = tf.train.GradientDescentOptimizer(learning_rate).minimize(error)\n",
    "\n",
    "are_they_same = tf.equal(tf.arg_max(logits_1, 1), tf.arg_max(y, 1))\n",
    "accuracy = tf.reduce_mean(tf.cast(are_they_same, 'float'))\n",
    "\n",
    "\n",
    "with tf.Session() as session:\n",
    "    session.run(tf.global_variables_initializer())\n",
    "\n",
    "    i = 0\n",
    "    while(((i*batch_size) + batch_size) <= all_training_points_1.shape[0]):\n",
    "        print(str(i + 1) + \" Iteration\")\n",
    "        session.run([gradient_optimizer, error], feed_dict={x:all_training_points_1[(i*batch_size):(i*batch_size) + batch_size, :], y:class_array[(i*batch_size):(i*batch_size) + batch_size, :]})\n",
    "        print(session.run(weights))\n",
    "        i+= 1\n",
    "    \n",
    "    print('\\n\\nAccuracy\\n\\n')\n",
    "    \n",
    "    print(session.run(accuracy, feed_dict={x:all_training_points_1, y:class_array}))\n",
    "\n",
    "\n",
    "\n",
    "\n"
   ]
  },
  {
   "cell_type": "code",
   "execution_count": null,
   "metadata": {
    "collapsed": true
   },
   "outputs": [],
   "source": []
  },
  {
   "cell_type": "code",
   "execution_count": null,
   "metadata": {
    "collapsed": true
   },
   "outputs": [],
   "source": []
  }
 ],
 "metadata": {
  "kernelspec": {
   "display_name": "Python 3",
   "language": "python",
   "name": "python3"
  },
  "language_info": {
   "codemirror_mode": {
    "name": "ipython",
    "version": 3
   },
   "file_extension": ".py",
   "mimetype": "text/x-python",
   "name": "python",
   "nbconvert_exporter": "python",
   "pygments_lexer": "ipython3",
   "version": "3.6.1"
  }
 },
 "nbformat": 4,
 "nbformat_minor": 2
}
